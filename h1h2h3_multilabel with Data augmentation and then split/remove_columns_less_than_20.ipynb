{
  "cells": [
    {
      "cell_type": "code",
      "execution_count": null,
      "metadata": {
        "id": "w9YibVzSLe8M"
      },
      "outputs": [],
      "source": [
        "import pandas as pd\n",
        "\n",
        "# Load your dataset (replace 'model3.csv' with the actual filename)\n",
        "df = pd.read_csv(\"model3.csv\")\n",
        "\n",
        "# Select only numeric columns (excluding the 'text' column)\n",
        "numeric_columns = df.select_dtypes(include=[int, float])\n",
        "\n",
        "# Calculate the sum for each numeric column\n",
        "column_sums = numeric_columns.sum()\n",
        "\n",
        "# Find columns with a sum count less than 20\n",
        "columns_to_remove = column_sums[column_sums < 20].index\n",
        "\n",
        "# Remove the columns from the DataFrame\n",
        "df = df.drop(columns=columns_to_remove)\n",
        "\n",
        "# Print the DataFrame with the selected columns\n",
        "print(df)\n",
        "\n",
        "# Save the modified DataFrame to a new CSV file (if needed)\n",
        "df.to_csv(\"modified_data__ff.csv\", index=False)\n",
        "\n",
        "# Create a download link for the file\n",
        "files.download(\"modified_data__ff.csv\")\n"
      ]
    }
  ],
  "metadata": {
    "colab": {
      "provenance": []
    },
    "kernelspec": {
      "display_name": "Python 3",
      "name": "python3"
    },
    "language_info": {
      "name": "python"
    }
  },
  "nbformat": 4,
  "nbformat_minor": 0
}
